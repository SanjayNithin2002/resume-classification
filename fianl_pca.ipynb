{
 "cells": [
  {
   "cell_type": "code",
   "execution_count": 123,
   "id": "567ae6a4",
   "metadata": {},
   "outputs": [],
   "source": [
    "# importing required libraries\n",
    "import numpy as np\n",
    "import matplotlib.pyplot as plt\n",
    "import pandas as pd"
   ]
  },
  {
   "cell_type": "code",
   "execution_count": 21,
   "id": "68d28d40",
   "metadata": {},
   "outputs": [],
   "source": [
    "from sklearn.preprocessing import StandardScaler\n",
    "from sklearn.decomposition import PCA\n",
    "from sklearn.model_selection import train_test_split\n",
    "from sklearn.metrics import accuracy_score\n",
    "df= pd.read_csv('final_datasets/encoded_dataset.csv')\n",
    "X = df.iloc[:, 3:].values\n",
    "y = df.iloc[:, 2].values\n",
    "X_train, X_test, y_train, y_test = train_test_split(X, y, test_size = 0.2, random_state = 0)\n",
    "sc = StandardScaler()\n",
    "X_train = sc.fit_transform(X_train)\n",
    "X_test = sc.transform(X_test)\n",
    "pca = PCA(n_components = None)\n",
    "X_train = pca.fit_transform(X_train)\n",
    "X_test = pca.transform(X_test)"
   ]
  },
  {
   "cell_type": "code",
   "execution_count": 37,
   "id": "7a287512",
   "metadata": {},
   "outputs": [
    {
     "data": {
      "text/plain": [
       "0.7461538461538462"
      ]
     },
     "execution_count": 37,
     "metadata": {},
     "output_type": "execute_result"
    }
   ],
   "source": [
    "from sklearn import svm\n",
    "svm_model = svm.SVC().fit(X_train,y_train)\n",
    "y_pred = svm_model.predict(X_test)\n",
    "svm_score = accuracy_score(y_test, y_pred,normalize = True)\n",
    "svm_score"
   ]
  },
  {
   "cell_type": "code",
   "execution_count": 38,
   "id": "bb7696d2",
   "metadata": {},
   "outputs": [
    {
     "data": {
      "text/plain": [
       "0.7846153846153846"
      ]
     },
     "execution_count": 38,
     "metadata": {},
     "output_type": "execute_result"
    }
   ],
   "source": [
    "from sklearn.linear_model import LogisticRegression\n",
    "lr_model = LogisticRegression(random_state=0, multi_class = \"ovr\").fit(X_train, y_train)\n",
    "y_pred = lr_model.predict(X_test)\n",
    "lr_score = accuracy_score(y_test, y_pred,normalize = True)\n",
    "lr_score"
   ]
  },
  {
   "cell_type": "code",
   "execution_count": 39,
   "id": "0d2ad622",
   "metadata": {},
   "outputs": [
    {
     "data": {
      "text/plain": [
       "0.49230769230769234"
      ]
     },
     "execution_count": 39,
     "metadata": {},
     "output_type": "execute_result"
    }
   ],
   "source": [
    "from sklearn.naive_bayes import GaussianNB\n",
    "gnb = GaussianNB()\n",
    "y_pred = gnb.fit(X_train, y_train).predict(X_test)\n",
    "gnb_score = accuracy_score(y_test,y_pred,normalize=True)\n",
    "gnb_score"
   ]
  },
  {
   "cell_type": "code",
   "execution_count": 40,
   "id": "a8c49b9d",
   "metadata": {},
   "outputs": [
    {
     "data": {
      "text/plain": [
       "0.49230769230769234"
      ]
     },
     "execution_count": 40,
     "metadata": {},
     "output_type": "execute_result"
    }
   ],
   "source": [
    "from sklearn.naive_bayes import MultinomialNB\n",
    "mnb = MultinomialNB\n",
    "y_pred = gnb.fit(X_train, y_train).predict(X_test)\n",
    "mnb_score = accuracy_score(y_test,y_pred,normalize=True)\n",
    "mnb_score"
   ]
  },
  {
   "cell_type": "code",
   "execution_count": 41,
   "id": "fe17784d",
   "metadata": {},
   "outputs": [
    {
     "data": {
      "text/plain": [
       "0.49230769230769234"
      ]
     },
     "execution_count": 41,
     "metadata": {},
     "output_type": "execute_result"
    }
   ],
   "source": [
    "from sklearn.naive_bayes import BernoulliNB\n",
    "bnb = BernoulliNB\n",
    "y_pred = gnb.fit(X_train, y_train).predict(X_test)\n",
    "bnb_score = accuracy_score(y_test,y_pred,normalize=True)\n",
    "bnb_score"
   ]
  },
  {
   "cell_type": "code",
   "execution_count": 42,
   "id": "1daf6e15",
   "metadata": {},
   "outputs": [
    {
     "data": {
      "text/plain": [
       "0.6923076923076923"
      ]
     },
     "execution_count": 42,
     "metadata": {},
     "output_type": "execute_result"
    }
   ],
   "source": [
    "from sklearn.ensemble import RandomForestClassifier\n",
    "rfc_model = RandomForestClassifier(max_depth=2, random_state=0).fit(X_train,y_train)\n",
    "y_pred = rfc_model.predict(X_test)\n",
    "rfc_score = accuracy_score(y_test,y_pred,normalize=True)\n",
    "rfc_score"
   ]
  },
  {
   "cell_type": "code",
   "execution_count": 43,
   "id": "2278f30a",
   "metadata": {},
   "outputs": [],
   "source": [
    "from sklearn.model_selection import train_test_split\n",
    "from sklearn.metrics import accuracy_score\n",
    "from imblearn.over_sampling import RandomOverSampler\n",
    "oversample = RandomOverSampler()\n",
    "df= pd.read_csv('final_datasets/encoded_dataset.csv')\n",
    "X = df.iloc[:, 3:].values\n",
    "y = df.iloc[:, 2].values\n",
    "X_over, y_over = oversample.fit_resample(X, y)\n",
    "X_train, X_test, y_train, y_test = train_test_split(X_over, y_over, test_size = 0.2, random_state = 0)\n",
    "X_train = sc.fit_transform(X_train)\n",
    "X_test = sc.transform(X_test)\n",
    "X_train = pca.fit_transform(X_train)\n",
    "X_test = pca.transform(X_test)"
   ]
  },
  {
   "cell_type": "code",
   "execution_count": 29,
   "id": "de3ce812",
   "metadata": {},
   "outputs": [
    {
     "data": {
      "text/plain": [
       "0.7615384615384615"
      ]
     },
     "execution_count": 29,
     "metadata": {},
     "output_type": "execute_result"
    }
   ],
   "source": [
    "from sklearn import svm\n",
    "svm_model = svm.SVC().fit(X_train,y_train)\n",
    "y_pred = svm_model.predict(X_test)\n",
    "svm_score = accuracy_score(y_test, y_pred,normalize = True)\n",
    "svm_score"
   ]
  },
  {
   "cell_type": "code",
   "execution_count": 30,
   "id": "a0eaacb1",
   "metadata": {},
   "outputs": [
    {
     "data": {
      "text/plain": [
       "0.8615384615384616"
      ]
     },
     "execution_count": 30,
     "metadata": {},
     "output_type": "execute_result"
    }
   ],
   "source": [
    "from sklearn.linear_model import LogisticRegression\n",
    "lr_model = LogisticRegression(random_state=0, multi_class = \"ovr\").fit(X_train, y_train)\n",
    "y_pred = lr_model.predict(X_test)\n",
    "lr_score = accuracy_score(y_test, y_pred,normalize = True)\n",
    "lr_score"
   ]
  },
  {
   "cell_type": "code",
   "execution_count": 31,
   "id": "8779e738",
   "metadata": {},
   "outputs": [
    {
     "data": {
      "text/plain": [
       "0.4846153846153846"
      ]
     },
     "execution_count": 31,
     "metadata": {},
     "output_type": "execute_result"
    }
   ],
   "source": [
    "from sklearn.naive_bayes import GaussianNB\n",
    "gnb = GaussianNB()\n",
    "y_pred = gnb.fit(X_train, y_train).predict(X_test)\n",
    "gnb_score = accuracy_score(y_test,y_pred,normalize=True)\n",
    "gnb_score"
   ]
  },
  {
   "cell_type": "code",
   "execution_count": 32,
   "id": "1c03b243",
   "metadata": {},
   "outputs": [
    {
     "data": {
      "text/plain": [
       "0.4846153846153846"
      ]
     },
     "execution_count": 32,
     "metadata": {},
     "output_type": "execute_result"
    }
   ],
   "source": [
    "from sklearn.naive_bayes import GaussianNB\n",
    "gnb = GaussianNB()\n",
    "y_pred = gnb.fit(X_train, y_train).predict(X_test)\n",
    "gnb_score = accuracy_score(y_test,y_pred,normalize=True)\n",
    "gnb_score"
   ]
  },
  {
   "cell_type": "code",
   "execution_count": 33,
   "id": "3fdffb02",
   "metadata": {},
   "outputs": [
    {
     "data": {
      "text/plain": [
       "0.4846153846153846"
      ]
     },
     "execution_count": 33,
     "metadata": {},
     "output_type": "execute_result"
    }
   ],
   "source": [
    "from sklearn.naive_bayes import MultinomialNB\n",
    "mnb = MultinomialNB\n",
    "y_pred = gnb.fit(X_train, y_train).predict(X_test)\n",
    "mnb_score = accuracy_score(y_test,y_pred,normalize=True)\n",
    "mnb_score"
   ]
  },
  {
   "cell_type": "code",
   "execution_count": 34,
   "id": "9b2ab614",
   "metadata": {},
   "outputs": [
    {
     "data": {
      "text/plain": [
       "0.4846153846153846"
      ]
     },
     "execution_count": 34,
     "metadata": {},
     "output_type": "execute_result"
    }
   ],
   "source": [
    "from sklearn.naive_bayes import BernoulliNB\n",
    "bnb = BernoulliNB\n",
    "y_pred = gnb.fit(X_train, y_train).predict(X_test)\n",
    "bnb_score = accuracy_score(y_test,y_pred,normalize=True)\n",
    "bnb_score"
   ]
  },
  {
   "cell_type": "code",
   "execution_count": 35,
   "id": "f51f5b59",
   "metadata": {},
   "outputs": [
    {
     "data": {
      "text/plain": [
       "0.6230769230769231"
      ]
     },
     "execution_count": 35,
     "metadata": {},
     "output_type": "execute_result"
    }
   ],
   "source": [
    "from sklearn.ensemble import RandomForestClassifier\n",
    "rfc_model = RandomForestClassifier(max_depth=2, random_state=0).fit(X_train,y_train)\n",
    "y_pred = rfc_model.predict(X_test)\n",
    "rfc_score = accuracy_score(y_test,y_pred,normalize=True)\n",
    "rfc_score"
   ]
  },
  {
   "cell_type": "code",
   "execution_count": 44,
   "id": "712bb235",
   "metadata": {},
   "outputs": [
    {
     "name": "stderr",
     "output_type": "stream",
     "text": [
      "C:\\Users\\ASUS\\AppData\\Local\\Programs\\Python\\Python39\\lib\\site-packages\\sklearn\\utils\\deprecation.py:87: FutureWarning: Function get_feature_names is deprecated; get_feature_names is deprecated in 1.0 and will be removed in 1.2. Please use get_feature_names_out instead.\n",
      "  warnings.warn(msg, category=FutureWarning)\n"
     ]
    }
   ],
   "source": [
    "import numpy as np\n",
    "import matplotlib.pyplot as plt\n",
    "import pandas as pd\n",
    "from sklearn.model_selection import train_test_split\n",
    "from sklearn.metrics import accuracy_score\n",
    "from imblearn.over_sampling import RandomOverSampler\n",
    "from sklearn.feature_extraction.text import TfidfVectorizer\n",
    "from sklearn.decomposition import PCA\n",
    "from sklearn.preprocessing import StandardScaler\n",
    "\n",
    "df= pd.read_csv('final_datasets/encoded_dataset.csv')\n",
    "X = df.iloc[:, 3:].values\n",
    "y = df.iloc[:, 2].values\n",
    "col = df.columns[3:]\n",
    "X_new = []\n",
    "for data in X:\n",
    "    datum = \" \".join([col[i] for i in range(len(data)) if data[i] == 1])\n",
    "    X_new.append(datum)\n",
    "vectorizer = TfidfVectorizer()\n",
    "vectors = vectorizer.fit_transform(X_new)\n",
    "feature_names = vectorizer.get_feature_names()\n",
    "dense = vectors.todense()\n",
    "denselist = dense.tolist()\n",
    "df = pd.DataFrame(denselist, columns=feature_names)\n",
    "oversample = RandomOverSampler()\n",
    "resumeDF = pd.read_csv('final_datasets/encoded_dataset.csv')\n",
    "y = resumeDF.iloc[:, 2].values\n",
    "X_over, y_over = oversample.fit_resample(df, y)\n",
    "X_train, X_test, y_train, y_test = train_test_split(X_over, y_over, test_size = 0.2, random_state = 0)\n",
    "sc = StandardScaler()\n",
    "X_train = sc.fit_transform(X_train)\n",
    "X_test = sc.transform(X_test)\n",
    "pca = PCA(n_components = None)\n",
    "X_train = pca.fit_transform(X_train)\n",
    "X_test = pca.transform(X_test)"
   ]
  },
  {
   "cell_type": "code",
   "execution_count": 45,
   "id": "8a663053",
   "metadata": {},
   "outputs": [
    {
     "data": {
      "text/plain": [
       "array([[-6.47354805e-01, -1.13159244e+00,  2.12723180e-01, ...,\n",
       "        -1.09750783e-18,  6.41892735e-19, -2.84769500e-19],\n",
       "       [-7.74168635e-01, -9.35640696e+00,  5.63348012e+00, ...,\n",
       "        -4.21296476e-18, -1.20404477e-17,  3.33921596e-18],\n",
       "       [ 3.28213122e+00, -2.70166434e-01, -4.95173310e-01, ...,\n",
       "         4.50815638e-17, -3.06493810e-17, -2.15412371e-17],\n",
       "       ...,\n",
       "       [-1.02503371e+00, -5.27557038e-01,  1.09363998e-01, ...,\n",
       "        -1.09750783e-18,  6.41892735e-19, -2.84769500e-19],\n",
       "       [-1.07677272e+00, -1.04249378e+00, -1.28648101e-01, ...,\n",
       "         9.19996730e-17, -2.40175455e-19, -8.73967270e-19],\n",
       "       [-9.42928993e-01,  1.20622925e+00,  1.02560902e+00, ...,\n",
       "        -4.00870825e-17,  9.78511301e-18,  6.37470379e-18]])"
      ]
     },
     "execution_count": 45,
     "metadata": {},
     "output_type": "execute_result"
    }
   ],
   "source": []
  },
  {
   "cell_type": "code",
   "execution_count": null,
   "id": "4fe719a5",
   "metadata": {},
   "outputs": [],
   "source": []
  }
 ],
 "metadata": {
  "kernelspec": {
   "display_name": "Python 3 (ipykernel)",
   "language": "python",
   "name": "python3"
  },
  "language_info": {
   "codemirror_mode": {
    "name": "ipython",
    "version": 3
   },
   "file_extension": ".py",
   "mimetype": "text/x-python",
   "name": "python",
   "nbconvert_exporter": "python",
   "pygments_lexer": "ipython3",
   "version": "3.9.9"
  }
 },
 "nbformat": 4,
 "nbformat_minor": 5
}
