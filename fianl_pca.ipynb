{
 "cells": [
  {
   "cell_type": "code",
   "execution_count": 68,
   "id": "567ae6a4",
   "metadata": {},
   "outputs": [],
   "source": [
    "# importing required libraries\n",
    "import numpy as np\n",
    "import matplotlib.pyplot as plt\n",
    "import pandas as pd"
   ]
  },
  {
   "cell_type": "code",
   "execution_count": 84,
   "id": "68d28d40",
   "metadata": {},
   "outputs": [],
   "source": [
    "from sklearn.preprocessing import StandardScaler\n",
    "from sklearn.decomposition import PCA\n",
    "from sklearn.model_selection import train_test_split\n",
    "from sklearn.metrics import accuracy_score\n",
    "from sklearn.metrics import precision_recall_fscore_support\n",
    "\n",
    "oversample = RandomOverSampler()\n",
    "df= pd.read_csv('final_datasets/encoded_dataset.csv')\n",
    "X = df.iloc[:, 3:].values\n",
    "y = df.iloc[:, 2].values\n",
    "X_over, y_over = oversample.fit_resample(X, y)\n",
    "X_train, X_test, y_train, y_test = train_test_split(X_over, y_over, test_size = 0.2, random_state = 42)\n",
    "\n",
    "\n",
    "pca = PCA(n_components = 30)\n",
    "X_train = pca.fit_transform(X_train)\n",
    "X_test = pca.transform(X_test)\n",
    "\n"
   ]
  },
  {
   "cell_type": "code",
   "execution_count": 85,
   "id": "de3ce812",
   "metadata": {},
   "outputs": [
    {
     "name": "stdout",
     "output_type": "stream",
     "text": [
      "0.8153846153846154\n"
     ]
    },
    {
     "data": {
      "text/plain": [
       "(0.8334777084777085, 0.8208057029177718, 0.8173688596223807, None)"
      ]
     },
     "execution_count": 85,
     "metadata": {},
     "output_type": "execute_result"
    }
   ],
   "source": [
    "from sklearn import svm\n",
    "svm_model = svm.SVC().fit(X_train,y_train)\n",
    "y_pred = svm_model.predict(X_test)\n",
    "svm_score = accuracy_score(y_test, y_pred,normalize = True)\n",
    "print(svm_score)\n",
    "precision_recall_fscore_support(y_test, y_pred, average='macro')"
   ]
  },
  {
   "cell_type": "code",
   "execution_count": 86,
   "id": "a0eaacb1",
   "metadata": {},
   "outputs": [
    {
     "name": "stdout",
     "output_type": "stream",
     "text": [
      "0.7230769230769231\n"
     ]
    },
    {
     "data": {
      "text/plain": [
       "(0.7218141233766233, 0.7226553618794997, 0.7177633267733379, None)"
      ]
     },
     "execution_count": 86,
     "metadata": {},
     "output_type": "execute_result"
    }
   ],
   "source": [
    "from sklearn.linear_model import LogisticRegression\n",
    "lr_model = LogisticRegression(random_state=0, multi_class = \"ovr\").fit(X_train, y_train)\n",
    "y_pred = lr_model.predict(X_test)\n",
    "lr_score = accuracy_score(y_test, y_pred,normalize = True)\n",
    "print(lr_score)\n",
    "precision_recall_fscore_support(y_test, y_pred, average='macro')"
   ]
  },
  {
   "cell_type": "code",
   "execution_count": 87,
   "id": "8779e738",
   "metadata": {},
   "outputs": [
    {
     "name": "stdout",
     "output_type": "stream",
     "text": [
      "0.6076923076923076\n"
     ]
    },
    {
     "data": {
      "text/plain": [
       "(0.7093552154404081, 0.6229916635089049, 0.6170508876762486, None)"
      ]
     },
     "execution_count": 87,
     "metadata": {},
     "output_type": "execute_result"
    }
   ],
   "source": [
    "from sklearn.naive_bayes import GaussianNB\n",
    "gnb = GaussianNB()\n",
    "y_pred = gnb.fit(X_train, y_train).predict(X_test)\n",
    "gnb_score = accuracy_score(y_test,y_pred,normalize=True)\n",
    "print(gnb_score)\n",
    "precision_recall_fscore_support(y_test, y_pred, average='macro')"
   ]
  },
  {
   "cell_type": "code",
   "execution_count": 88,
   "id": "f51f5b59",
   "metadata": {},
   "outputs": [
    {
     "name": "stdout",
     "output_type": "stream",
     "text": [
      "0.8846153846153846\n"
     ]
    },
    {
     "data": {
      "text/plain": [
       "(0.8848684210526316, 0.883582796513831, 0.882867366284814, None)"
      ]
     },
     "execution_count": 88,
     "metadata": {},
     "output_type": "execute_result"
    }
   ],
   "source": [
    "from sklearn.ensemble import RandomForestClassifier\n",
    "rfc_model = RandomForestClassifier(max_depth=100, random_state=0).fit(X_train,y_train)\n",
    "y_pred = rfc_model.predict(X_test)\n",
    "rfc_score = accuracy_score(y_test,y_pred,normalize=True)\n",
    "print(rfc_score)\n",
    "precision_recall_fscore_support(y_test, y_pred, average='macro')"
   ]
  }
 ],
 "metadata": {
  "kernelspec": {
   "display_name": "Python 3 (ipykernel)",
   "language": "python",
   "name": "python3"
  },
  "language_info": {
   "codemirror_mode": {
    "name": "ipython",
    "version": 3
   },
   "file_extension": ".py",
   "mimetype": "text/x-python",
   "name": "python",
   "nbconvert_exporter": "python",
   "pygments_lexer": "ipython3",
   "version": "3.9.9"
  }
 },
 "nbformat": 4,
 "nbformat_minor": 5
}
