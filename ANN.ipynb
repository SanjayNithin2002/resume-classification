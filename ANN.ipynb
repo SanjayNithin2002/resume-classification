{
 "cells": [
  {
   "cell_type": "code",
   "execution_count": null,
   "id": "dcbb2eed",
   "metadata": {},
   "outputs": [
    {
     "name": "stdout",
     "output_type": "stream",
     "text": [
      "Epoch 1/12\n"
     ]
    },
    {
     "name": "stderr",
     "output_type": "stream",
     "text": [
      "C:\\Users\\ASUS\\AppData\\Local\\Temp\\ipykernel_1448\\3123322397.py:28: DeprecationWarning: `np.int` is a deprecated alias for the builtin `int`. To silence this warning, use `int` by itself. Doing this will not modify any behavior and is safe. When replacing `np.int`, you may wish to use e.g. `np.int64` or `np.int32` to specify the precision. If you wish to review your current use, check the release note link for additional information.\n",
      "Deprecated in NumPy 1.20; for more details and guidance: https://numpy.org/devdocs/release/1.20.0-notes.html#deprecations\n",
      "  X_train=np.asarray(X_train).astype(np.int)\n",
      "C:\\Users\\ASUS\\AppData\\Local\\Temp\\ipykernel_1448\\3123322397.py:29: DeprecationWarning: `np.int` is a deprecated alias for the builtin `int`. To silence this warning, use `int` by itself. Doing this will not modify any behavior and is safe. When replacing `np.int`, you may wish to use e.g. `np.int64` or `np.int32` to specify the precision. If you wish to review your current use, check the release note link for additional information.\n",
      "Deprecated in NumPy 1.20; for more details and guidance: https://numpy.org/devdocs/release/1.20.0-notes.html#deprecations\n",
      "  y_train=tensorflow.one_hot(np.asarray(y_train).astype(np.int),depth=4)\n",
      "C:\\Users\\ASUS\\AppData\\Local\\Temp\\ipykernel_1448\\3123322397.py:31: DeprecationWarning: `np.int` is a deprecated alias for the builtin `int`. To silence this warning, use `int` by itself. Doing this will not modify any behavior and is safe. When replacing `np.int`, you may wish to use e.g. `np.int64` or `np.int32` to specify the precision. If you wish to review your current use, check the release note link for additional information.\n",
      "Deprecated in NumPy 1.20; for more details and guidance: https://numpy.org/devdocs/release/1.20.0-notes.html#deprecations\n",
      "  X_test=np.asarray(X_test).astype(np.int)\n",
      "C:\\Users\\ASUS\\AppData\\Local\\Temp\\ipykernel_1448\\3123322397.py:32: DeprecationWarning: `np.int` is a deprecated alias for the builtin `int`. To silence this warning, use `int` by itself. Doing this will not modify any behavior and is safe. When replacing `np.int`, you may wish to use e.g. `np.int64` or `np.int32` to specify the precision. If you wish to review your current use, check the release note link for additional information.\n",
      "Deprecated in NumPy 1.20; for more details and guidance: https://numpy.org/devdocs/release/1.20.0-notes.html#deprecations\n",
      "  y_test=tensorflow.one_hot(np.asarray(y_test).astype(np.int),depth=4)\n"
     ]
    },
    {
     "name": "stdout",
     "output_type": "stream",
     "text": [
      "52/52 [==============================] - 1s 5ms/step - loss: 0.5784 - Accuracy: 0.2838 - precision: 0.2683 - recall: 0.0212\n",
      "Epoch 2/12\n",
      "52/52 [==============================] - 0s 7ms/step - loss: 0.5246 - Accuracy: 0.4112 - precision: 0.7500 - recall: 0.0290  \n",
      "Epoch 3/12\n",
      "52/52 [==============================] - 0s 4ms/step - loss: 0.3313 - Accuracy: 0.7355 - precision: 0.8545 - recall: 0.5328\n",
      "Epoch 4/12\n",
      "52/52 [==============================] - 0s 6ms/step - loss: 0.1719 - Accuracy: 0.9131 - precision: 0.9043 - recall: 0.8031\n",
      "Epoch 5/12\n",
      "52/52 [==============================] - 0s 5ms/step - loss: 0.0898 - Accuracy: 0.9653 - precision: 0.9540 - recall: 0.9208\n",
      "Epoch 6/12\n",
      "13/52 [======>.......................] - ETA: 0s - loss: 0.0580 - Accuracy: 0.9692 - precision: 0.9612 - recall: 0.9538"
     ]
    }
   ],
   "source": [
    "from sklearn.model_selection import train_test_split\n",
    "from sklearn.metrics import accuracy_score\n",
    "from imblearn.over_sampling import RandomOverSampler\n",
    "import pandas as pd\n",
    "from sklearn.preprocessing import LabelEncoder\n",
    "import tensorflow\n",
    "from tensorflow import keras\n",
    "from keras.models import Sequential\n",
    "from keras import Input\n",
    "from keras.layers import Dense, Flatten\n",
    "import pandas as pd \n",
    "import numpy as np \n",
    "import sklearn\n",
    "from sklearn.model_selection import train_test_split\n",
    "from sklearn.metrics import classification_report\n",
    "import plotly \n",
    "import plotly.express as px\n",
    "import plotly.graph_objects as go\n",
    "\n",
    "le = LabelEncoder()\n",
    "oversample = RandomOverSampler()\n",
    "df = pd.read_csv('final_datasets/encoded_dataset.csv') #dataset\n",
    "X = df.iloc[:,3:]\n",
    "y = le.fit_transform(df['Streams'])\n",
    "#y = df.iloc[:, 2].values\n",
    "X_over, y_over = oversample.fit_resample(X, y)\n",
    "X_train, X_test, y_train, y_test = train_test_split(X_over, y_over, test_size = 0.2, random_state = 0)\n",
    "X_train=np.asarray(X_train).astype(np.int)\n",
    "y_train=tensorflow.one_hot(np.asarray(y_train).astype(np.int),depth=4)\n",
    "\n",
    "X_test=np.asarray(X_test).astype(np.int)\n",
    "y_test=tensorflow.one_hot(np.asarray(y_test).astype(np.int),depth=4)\n",
    "\n",
    "\n",
    "model = Sequential(name=\"ANN-for-resume-classification\")\n",
    "model.add(Input(shape=(1091,), name='Input-Layer'))\n",
    "model.add(Dense(512, activation='softplus', name='Hidden-Layer'))\n",
    "model.add(Dense(256, activation='softplus', name='Hidden-Layer-2'))\n",
    "model.add(Dense(16, activation='softplus', name='Hidden-Layer-3'))\n",
    "model.add(Dense(4, activation='sigmoid', name='Output-Layer'))\n",
    "\n",
    "\n",
    "model.compile(optimizer='adam',\n",
    "              loss='binary_crossentropy',\n",
    "              metrics=['Accuracy', 'Precision', 'Recall'],\n",
    "              loss_weights=None,\n",
    "              weighted_metrics=None,\n",
    "              run_eagerly=None,\n",
    "              steps_per_execution=None\n",
    "              )\n",
    "\n",
    "model.fit(X_train,\n",
    "          y_train,\n",
    "          batch_size=10,\n",
    "          epochs=12,\n",
    "          verbose='auto',\n",
    "         )\n",
    "\n",
    "\n",
    "pred_labels_tr = (model.predict(X_train) > 0.5).astype(int)\n",
    "pred_labels_te = (model.predict(X_test) > 0.5).astype(int)\n",
    "\n",
    "\n",
    "\n",
    "print(\"\")\n",
    "print('-------------------- Model Summary --------------------')\n",
    "model.summary()\n",
    "print(\"\")\n",
    "print('-------------------- Weights and Biases --------------------')\n",
    "for layer in model.layers:\n",
    "    print(\"Layer: \", layer.name)\n",
    "    print(\"  --Kernels (Weights): \", layer.get_weights()[0])\n",
    "    print(\"  --Biases: \", layer.get_weights()[1])\n",
    "\n",
    "print(\"\")\n",
    "print('---------- Evaluation on Training Data ----------')\n",
    "print(classification_report(y_train, pred_labels_tr))\n",
    "print(\"\")\n",
    "\n",
    "print('---------- Evaluation on Test Data ----------')\n",
    "print(classification_report(y_test, pred_labels_te))\n",
    "print(\"\")"
   ]
  },
  {
   "cell_type": "code",
   "execution_count": null,
   "id": "c221ee30",
   "metadata": {},
   "outputs": [],
   "source": []
  }
 ],
 "metadata": {
  "kernelspec": {
   "display_name": "Python 3 (ipykernel)",
   "language": "python",
   "name": "python3"
  },
  "language_info": {
   "codemirror_mode": {
    "name": "ipython",
    "version": 3
   },
   "file_extension": ".py",
   "mimetype": "text/x-python",
   "name": "python",
   "nbconvert_exporter": "python",
   "pygments_lexer": "ipython3",
   "version": "3.9.9"
  }
 },
 "nbformat": 4,
 "nbformat_minor": 5
}
