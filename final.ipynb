{
 "cells": [
  {
   "cell_type": "code",
   "execution_count": 3,
   "id": "567ae6a4",
   "metadata": {},
   "outputs": [],
   "source": [
    "# importing required libraries\n",
    "import numpy as np\n",
    "import matplotlib.pyplot as plt\n",
    "import pandas as pd"
   ]
  },
  {
   "cell_type": "code",
   "execution_count": 8,
   "id": "4f1903d8",
   "metadata": {},
   "outputs": [
    {
     "name": "stdout",
     "output_type": "stream",
     "text": [
      "53\n",
      "58\n",
      "127\n",
      "162\n"
     ]
    }
   ],
   "source": [
    "from sklearn.model_selection import train_test_split\n",
    "from sklearn.metrics import accuracy_score\n",
    "df= pd.read_csv('final_datasets/encoded_dataset.csv')\n",
    "X = df.iloc[:, 3:].values\n",
    "y = df.iloc[:, 2].values\n",
    "X_train, X_test, y_train, y_test = train_test_split(X, y, test_size = 0.2, random_state = 0)\n",
    "\n",
    "print(np.count_nonzero(y == \"cloud computing\"))\n",
    "print(np.count_nonzero(y == \"cyber security\"))\n",
    "print(np.count_nonzero(y == \"core\"))\n",
    "print(np.count_nonzero(y == \"data science\"))\n"
   ]
  },
  {
   "cell_type": "code",
   "execution_count": 9,
   "id": "7a287512",
   "metadata": {},
   "outputs": [
    {
     "data": {
      "text/plain": [
       "0.6125"
      ]
     },
     "execution_count": 9,
     "metadata": {},
     "output_type": "execute_result"
    }
   ],
   "source": [
    "from sklearn import svm\n",
    "svm_model = svm.SVC().fit(X_train,y_train)\n",
    "y_pred = svm_model.predict(X_test)\n",
    "svm_score = accuracy_score(y_test, y_pred,normalize = True)\n",
    "svm_score"
   ]
  },
  {
   "cell_type": "code",
   "execution_count": 10,
   "id": "bb7696d2",
   "metadata": {},
   "outputs": [
    {
     "data": {
      "text/plain": [
       "0.675"
      ]
     },
     "execution_count": 10,
     "metadata": {},
     "output_type": "execute_result"
    }
   ],
   "source": [
    "from sklearn.linear_model import LogisticRegression\n",
    "lr_model = LogisticRegression(random_state=0, multi_class = \"ovr\").fit(X_train, y_train)\n",
    "y_pred = lr_model.predict(X_test)\n",
    "lr_score = accuracy_score(y_test, y_pred,normalize = True)\n",
    "lr_score"
   ]
  },
  {
   "cell_type": "code",
   "execution_count": 44,
   "id": "0d2ad622",
   "metadata": {},
   "outputs": [
    {
     "data": {
      "text/plain": [
       "0.6692307692307692"
      ]
     },
     "execution_count": 44,
     "metadata": {},
     "output_type": "execute_result"
    }
   ],
   "source": [
    "from sklearn.naive_bayes import GaussianNB\n",
    "gnb = GaussianNB()\n",
    "y_pred = gnb.fit(X_train, y_train).predict(X_test)\n",
    "gnb_score = accuracy_score(y_test,y_pred,normalize=True)\n",
    "gnb_score"
   ]
  },
  {
   "cell_type": "code",
   "execution_count": 45,
   "id": "a8c49b9d",
   "metadata": {},
   "outputs": [
    {
     "data": {
      "text/plain": [
       "0.6692307692307692"
      ]
     },
     "execution_count": 45,
     "metadata": {},
     "output_type": "execute_result"
    }
   ],
   "source": [
    "from sklearn.naive_bayes import MultinomialNB\n",
    "mnb = MultinomialNB\n",
    "y_pred = gnb.fit(X_train, y_train).predict(X_test)\n",
    "mnb_score = accuracy_score(y_test,y_pred,normalize=True)\n",
    "mnb_score"
   ]
  },
  {
   "cell_type": "code",
   "execution_count": 46,
   "id": "fe17784d",
   "metadata": {},
   "outputs": [
    {
     "data": {
      "text/plain": [
       "0.6692307692307692"
      ]
     },
     "execution_count": 46,
     "metadata": {},
     "output_type": "execute_result"
    }
   ],
   "source": [
    "from sklearn.naive_bayes import BernoulliNB\n",
    "bnb = BernoulliNB\n",
    "y_pred = gnb.fit(X_train, y_train).predict(X_test)\n",
    "bnb_score = accuracy_score(y_test,y_pred,normalize=True)\n",
    "bnb_score"
   ]
  },
  {
   "cell_type": "code",
   "execution_count": 47,
   "id": "1daf6e15",
   "metadata": {},
   "outputs": [
    {
     "data": {
      "text/plain": [
       "0.7153846153846154"
      ]
     },
     "execution_count": 47,
     "metadata": {},
     "output_type": "execute_result"
    }
   ],
   "source": [
    "from sklearn.ensemble import RandomForestClassifier\n",
    "rfc_model = RandomForestClassifier(max_depth=2, random_state=0).fit(X_train,y_train)\n",
    "y_pred = rfc_model.predict(X_test)\n",
    "rfc_score = accuracy_score(y_test,y_pred,normalize=True)\n",
    "rfc_score"
   ]
  },
  {
   "cell_type": "code",
   "execution_count": 48,
   "id": "2278f30a",
   "metadata": {},
   "outputs": [],
   "source": [
    "from sklearn.model_selection import train_test_split\n",
    "from sklearn.metrics import accuracy_score\n",
    "from imblearn.over_sampling import RandomOverSampler\n",
    "oversample = RandomOverSampler()\n",
    "df= pd.read_csv('final_datasets/encoded_dataset.csv')\n",
    "X = df.iloc[:, 3:].values\n",
    "y = df.iloc[:, 2].values\n",
    "X_over, y_over = oversample.fit_resample(X, y)\n",
    "X_train, X_test, y_train, y_test = train_test_split(X_over, y_over, test_size = 0.2, random_state = 0)"
   ]
  },
  {
   "cell_type": "code",
   "execution_count": 57,
   "id": "de3ce812",
   "metadata": {},
   "outputs": [
    {
     "data": {
      "text/plain": [
       "0.8615384615384616"
      ]
     },
     "execution_count": 57,
     "metadata": {},
     "output_type": "execute_result"
    }
   ],
   "source": [
    "from sklearn import svm\n",
    "svm_model = svm.SVC().fit(X_train,y_train)\n",
    "y_pred = svm_model.predict(X_test)\n",
    "svm_score = accuracy_score(y_test, y_pred,normalize = True)\n",
    "svm_score"
   ]
  },
  {
   "cell_type": "code",
   "execution_count": 58,
   "id": "a0eaacb1",
   "metadata": {},
   "outputs": [
    {
     "data": {
      "text/plain": [
       "0.7846153846153846"
      ]
     },
     "execution_count": 58,
     "metadata": {},
     "output_type": "execute_result"
    }
   ],
   "source": [
    "from sklearn.linear_model import LogisticRegression\n",
    "lr_model = LogisticRegression(random_state=0, multi_class = \"ovr\").fit(X_train, y_train)\n",
    "y_pred = lr_model.predict(X_test)\n",
    "lr_score = accuracy_score(y_test, y_pred,normalize = True)\n",
    "lr_score"
   ]
  },
  {
   "cell_type": "code",
   "execution_count": 59,
   "id": "8779e738",
   "metadata": {},
   "outputs": [
    {
     "data": {
      "text/plain": [
       "0.7076923076923077"
      ]
     },
     "execution_count": 59,
     "metadata": {},
     "output_type": "execute_result"
    }
   ],
   "source": [
    "from sklearn.naive_bayes import GaussianNB\n",
    "gnb = GaussianNB()\n",
    "y_pred = gnb.fit(X_train, y_train).predict(X_test)\n",
    "gnb_score = accuracy_score(y_test,y_pred,normalize=True)\n",
    "gnb_score"
   ]
  },
  {
   "cell_type": "code",
   "execution_count": 60,
   "id": "1c03b243",
   "metadata": {},
   "outputs": [
    {
     "data": {
      "text/plain": [
       "0.7076923076923077"
      ]
     },
     "execution_count": 60,
     "metadata": {},
     "output_type": "execute_result"
    }
   ],
   "source": [
    "from sklearn.naive_bayes import GaussianNB\n",
    "gnb = GaussianNB()\n",
    "y_pred = gnb.fit(X_train, y_train).predict(X_test)\n",
    "gnb_score = accuracy_score(y_test,y_pred,normalize=True)\n",
    "gnb_score"
   ]
  },
  {
   "cell_type": "code",
   "execution_count": 61,
   "id": "3fdffb02",
   "metadata": {},
   "outputs": [
    {
     "data": {
      "text/plain": [
       "0.7076923076923077"
      ]
     },
     "execution_count": 61,
     "metadata": {},
     "output_type": "execute_result"
    }
   ],
   "source": [
    "from sklearn.naive_bayes import MultinomialNB\n",
    "mnb = MultinomialNB\n",
    "y_pred = gnb.fit(X_train, y_train).predict(X_test)\n",
    "mnb_score = accuracy_score(y_test,y_pred,normalize=True)\n",
    "mnb_score"
   ]
  },
  {
   "cell_type": "code",
   "execution_count": 62,
   "id": "9b2ab614",
   "metadata": {},
   "outputs": [
    {
     "data": {
      "text/plain": [
       "0.7076923076923077"
      ]
     },
     "execution_count": 62,
     "metadata": {},
     "output_type": "execute_result"
    }
   ],
   "source": [
    "from sklearn.naive_bayes import BernoulliNB\n",
    "bnb = BernoulliNB\n",
    "y_pred = gnb.fit(X_train, y_train).predict(X_test)\n",
    "bnb_score = accuracy_score(y_test,y_pred,normalize=True)\n",
    "bnb_score"
   ]
  },
  {
   "cell_type": "code",
   "execution_count": 63,
   "id": "f51f5b59",
   "metadata": {},
   "outputs": [
    {
     "data": {
      "text/plain": [
       "0.6538461538461539"
      ]
     },
     "execution_count": 63,
     "metadata": {},
     "output_type": "execute_result"
    }
   ],
   "source": [
    "from sklearn.ensemble import RandomForestClassifier\n",
    "rfc_model = RandomForestClassifier(max_depth=2, random_state=0).fit(X_train,y_train)\n",
    "y_pred = rfc_model.predict(X_test)\n",
    "rfc_score = accuracy_score(y_test,y_pred,normalize=True)\n",
    "rfc_score"
   ]
  },
  {
   "cell_type": "code",
   "execution_count": 18,
   "id": "a4fd462a",
   "metadata": {},
   "outputs": [],
   "source": [
    "#PCA analysis"
   ]
  },
  {
   "cell_type": "code",
   "execution_count": 6,
   "id": "c1e4a06e",
   "metadata": {},
   "outputs": [
    {
     "data": {
      "text/plain": [
       "array([2.50038205e-01, 2.13256614e-01, 1.25849644e-01, 1.25391850e-01,\n",
       "       1.25391850e-01, 1.23322593e-01, 3.67492443e-02, 5.26742373e-31,\n",
       "       7.41420754e-34, 4.35909470e-35])"
      ]
     },
     "execution_count": 6,
     "metadata": {},
     "output_type": "execute_result"
    }
   ],
   "source": [
    "from sklearn.preprocessing import StandardScaler\n",
    "from sklearn.decomposition import PCA\n",
    "from sklearn.model_selection import train_test_split\n",
    "df= pd.read_csv('final_datasets/encoded_dataset.csv')\n",
    "X = df.iloc[:, 3:13].values\n",
    "y = df.iloc[:, 2].values\n",
    "X_train, X_test, y_train, y_test = train_test_split(X, y, test_size = 0.2, random_state = 0)\n",
    "sc = StandardScaler()\n",
    "X_train = sc.fit_transform(X_train)\n",
    "X_test = sc.transform(X_test)\n",
    "pca = PCA(n_components = None)\n",
    "X_train = pca.fit_transform(X_train)\n",
    "X_test = pca.transform(X_test)\n",
    "explained_variance = pca.explained_variance_ratio_\n",
    "expl"
   ]
  },
  {
   "cell_type": "code",
   "execution_count": 53,
   "id": "f65ed12f",
   "metadata": {},
   "outputs": [],
   "source": [
    "import numpy as np\n",
    "import matplotlib.pyplot as plt\n",
    "import pandas as pd\n",
    "df= pd.read_csv('final_datasets/encoded_dataset.csv')\n",
    "X = df.iloc[:, 3:].values\n",
    "y = df.iloc[:, 2].values\n",
    "col = df.columns[3:]\n",
    "X_new = []\n",
    "for data in X:\n",
    "    datum = \" \".join([col[i] for i in range(len(data)) if data[i] == 1])\n",
    "    X_new.append(datum)"
   ]
  },
  {
   "cell_type": "code",
   "execution_count": 54,
   "id": "543d3d17",
   "metadata": {},
   "outputs": [
    {
     "name": "stderr",
     "output_type": "stream",
     "text": [
      "C:\\Users\\ASUS\\AppData\\Local\\Programs\\Python\\Python39\\lib\\site-packages\\sklearn\\utils\\deprecation.py:87: FutureWarning: Function get_feature_names is deprecated; get_feature_names is deprecated in 1.0 and will be removed in 1.2. Please use get_feature_names_out instead.\n",
      "  warnings.warn(msg, category=FutureWarning)\n"
     ]
    }
   ],
   "source": [
    "from sklearn.feature_extraction.text import TfidfVectorizer\n",
    "vectorizer = TfidfVectorizer()\n",
    "vectors = vectorizer.fit_transform(X_new)\n",
    "feature_names = vectorizer.get_feature_names()\n",
    "dense = vectors.todense()\n",
    "denselist = dense.tolist()\n",
    "df = pd.DataFrame(denselist, columns=feature_names)"
   ]
  },
  {
   "cell_type": "code",
   "execution_count": 55,
   "id": "f42bb7c7",
   "metadata": {},
   "outputs": [
    {
     "data": {
      "text/html": [
       "<div>\n",
       "<style scoped>\n",
       "    .dataframe tbody tr th:only-of-type {\n",
       "        vertical-align: middle;\n",
       "    }\n",
       "\n",
       "    .dataframe tbody tr th {\n",
       "        vertical-align: top;\n",
       "    }\n",
       "\n",
       "    .dataframe thead th {\n",
       "        text-align: right;\n",
       "    }\n",
       "</style>\n",
       "<table border=\"1\" class=\"dataframe\">\n",
       "  <thead>\n",
       "    <tr style=\"text-align: right;\">\n",
       "      <th></th>\n",
       "      <th>256</th>\n",
       "      <th>360</th>\n",
       "      <th>3d</th>\n",
       "      <th>academic</th>\n",
       "      <th>accelerometer</th>\n",
       "      <th>accident</th>\n",
       "      <th>accounting</th>\n",
       "      <th>achievement</th>\n",
       "      <th>acquisition</th>\n",
       "      <th>acting</th>\n",
       "      <th>...</th>\n",
       "      <th>wordpress</th>\n",
       "      <th>workbench</th>\n",
       "      <th>workflows</th>\n",
       "      <th>writing</th>\n",
       "      <th>written</th>\n",
       "      <th>xampp</th>\n",
       "      <th>xd</th>\n",
       "      <th>xgboost</th>\n",
       "      <th>yoga</th>\n",
       "      <th>zope</th>\n",
       "    </tr>\n",
       "  </thead>\n",
       "  <tbody>\n",
       "    <tr>\n",
       "      <th>0</th>\n",
       "      <td>0.0</td>\n",
       "      <td>0.0</td>\n",
       "      <td>0.0</td>\n",
       "      <td>0.0</td>\n",
       "      <td>0.0</td>\n",
       "      <td>0.000000</td>\n",
       "      <td>0.0</td>\n",
       "      <td>0.0</td>\n",
       "      <td>0.0</td>\n",
       "      <td>0.0</td>\n",
       "      <td>...</td>\n",
       "      <td>0.0</td>\n",
       "      <td>0.0</td>\n",
       "      <td>0.0</td>\n",
       "      <td>0.0</td>\n",
       "      <td>0.0</td>\n",
       "      <td>0.0</td>\n",
       "      <td>0.0</td>\n",
       "      <td>0.0</td>\n",
       "      <td>0.0</td>\n",
       "      <td>0.0</td>\n",
       "    </tr>\n",
       "    <tr>\n",
       "      <th>1</th>\n",
       "      <td>0.0</td>\n",
       "      <td>0.0</td>\n",
       "      <td>0.0</td>\n",
       "      <td>0.0</td>\n",
       "      <td>0.0</td>\n",
       "      <td>0.000000</td>\n",
       "      <td>0.0</td>\n",
       "      <td>0.0</td>\n",
       "      <td>0.0</td>\n",
       "      <td>0.0</td>\n",
       "      <td>...</td>\n",
       "      <td>0.0</td>\n",
       "      <td>0.0</td>\n",
       "      <td>0.0</td>\n",
       "      <td>0.0</td>\n",
       "      <td>0.0</td>\n",
       "      <td>0.0</td>\n",
       "      <td>0.0</td>\n",
       "      <td>0.0</td>\n",
       "      <td>0.0</td>\n",
       "      <td>0.0</td>\n",
       "    </tr>\n",
       "    <tr>\n",
       "      <th>2</th>\n",
       "      <td>0.0</td>\n",
       "      <td>0.0</td>\n",
       "      <td>0.0</td>\n",
       "      <td>0.0</td>\n",
       "      <td>0.0</td>\n",
       "      <td>0.225922</td>\n",
       "      <td>0.0</td>\n",
       "      <td>0.0</td>\n",
       "      <td>0.0</td>\n",
       "      <td>0.0</td>\n",
       "      <td>...</td>\n",
       "      <td>0.0</td>\n",
       "      <td>0.0</td>\n",
       "      <td>0.0</td>\n",
       "      <td>0.0</td>\n",
       "      <td>0.0</td>\n",
       "      <td>0.0</td>\n",
       "      <td>0.0</td>\n",
       "      <td>0.0</td>\n",
       "      <td>0.0</td>\n",
       "      <td>0.0</td>\n",
       "    </tr>\n",
       "    <tr>\n",
       "      <th>3</th>\n",
       "      <td>0.0</td>\n",
       "      <td>0.0</td>\n",
       "      <td>0.0</td>\n",
       "      <td>0.0</td>\n",
       "      <td>0.0</td>\n",
       "      <td>0.000000</td>\n",
       "      <td>0.0</td>\n",
       "      <td>0.0</td>\n",
       "      <td>0.0</td>\n",
       "      <td>0.0</td>\n",
       "      <td>...</td>\n",
       "      <td>0.0</td>\n",
       "      <td>0.0</td>\n",
       "      <td>0.0</td>\n",
       "      <td>0.0</td>\n",
       "      <td>0.0</td>\n",
       "      <td>0.0</td>\n",
       "      <td>0.0</td>\n",
       "      <td>0.0</td>\n",
       "      <td>0.0</td>\n",
       "      <td>0.0</td>\n",
       "    </tr>\n",
       "    <tr>\n",
       "      <th>4</th>\n",
       "      <td>0.0</td>\n",
       "      <td>0.0</td>\n",
       "      <td>0.0</td>\n",
       "      <td>0.0</td>\n",
       "      <td>0.0</td>\n",
       "      <td>0.000000</td>\n",
       "      <td>0.0</td>\n",
       "      <td>0.0</td>\n",
       "      <td>0.0</td>\n",
       "      <td>0.0</td>\n",
       "      <td>...</td>\n",
       "      <td>0.0</td>\n",
       "      <td>0.0</td>\n",
       "      <td>0.0</td>\n",
       "      <td>0.0</td>\n",
       "      <td>0.0</td>\n",
       "      <td>0.0</td>\n",
       "      <td>0.0</td>\n",
       "      <td>0.0</td>\n",
       "      <td>0.0</td>\n",
       "      <td>0.0</td>\n",
       "    </tr>\n",
       "  </tbody>\n",
       "</table>\n",
       "<p>5 rows × 1145 columns</p>\n",
       "</div>"
      ],
      "text/plain": [
       "   256  360   3d  academic  accelerometer  accident  accounting  achievement  \\\n",
       "0  0.0  0.0  0.0       0.0            0.0  0.000000         0.0          0.0   \n",
       "1  0.0  0.0  0.0       0.0            0.0  0.000000         0.0          0.0   \n",
       "2  0.0  0.0  0.0       0.0            0.0  0.225922         0.0          0.0   \n",
       "3  0.0  0.0  0.0       0.0            0.0  0.000000         0.0          0.0   \n",
       "4  0.0  0.0  0.0       0.0            0.0  0.000000         0.0          0.0   \n",
       "\n",
       "   acquisition  acting  ...  wordpress  workbench  workflows  writing  \\\n",
       "0          0.0     0.0  ...        0.0        0.0        0.0      0.0   \n",
       "1          0.0     0.0  ...        0.0        0.0        0.0      0.0   \n",
       "2          0.0     0.0  ...        0.0        0.0        0.0      0.0   \n",
       "3          0.0     0.0  ...        0.0        0.0        0.0      0.0   \n",
       "4          0.0     0.0  ...        0.0        0.0        0.0      0.0   \n",
       "\n",
       "   written  xampp   xd  xgboost  yoga  zope  \n",
       "0      0.0    0.0  0.0      0.0   0.0   0.0  \n",
       "1      0.0    0.0  0.0      0.0   0.0   0.0  \n",
       "2      0.0    0.0  0.0      0.0   0.0   0.0  \n",
       "3      0.0    0.0  0.0      0.0   0.0   0.0  \n",
       "4      0.0    0.0  0.0      0.0   0.0   0.0  \n",
       "\n",
       "[5 rows x 1145 columns]"
      ]
     },
     "execution_count": 55,
     "metadata": {},
     "output_type": "execute_result"
    }
   ],
   "source": [
    "df.head()"
   ]
  },
  {
   "cell_type": "code",
   "execution_count": 56,
   "id": "1ccd5966",
   "metadata": {},
   "outputs": [],
   "source": [
    "from sklearn.model_selection import train_test_split\n",
    "from sklearn.metrics import accuracy_score\n",
    "from imblearn.over_sampling import RandomOverSampler\n",
    "oversample = RandomOverSampler()\n",
    "resumeDF = pd.read_csv('final_datasets/encoded_dataset.csv')\n",
    "y = resumeDF.iloc[:, 2].values\n",
    "X_over, y_over = oversample.fit_resample(df, y)\n",
    "X_train, X_test, y_train, y_test = train_test_split(X_over, y_over, test_size = 0.2, random_state = 0)"
   ]
  },
  {
   "cell_type": "code",
   "execution_count": null,
   "id": "1d8846cd",
   "metadata": {},
   "outputs": [],
   "source": []
  }
 ],
 "metadata": {
  "kernelspec": {
   "display_name": "Python 3 (ipykernel)",
   "language": "python",
   "name": "python3"
  },
  "language_info": {
   "codemirror_mode": {
    "name": "ipython",
    "version": 3
   },
   "file_extension": ".py",
   "mimetype": "text/x-python",
   "name": "python",
   "nbconvert_exporter": "python",
   "pygments_lexer": "ipython3",
   "version": "3.9.9"
  }
 },
 "nbformat": 4,
 "nbformat_minor": 5
}
