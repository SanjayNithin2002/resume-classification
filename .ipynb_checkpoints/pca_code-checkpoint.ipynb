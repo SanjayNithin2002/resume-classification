{
 "cells": [
  {
   "cell_type": "code",
   "execution_count": 3,
   "id": "567ae6a4",
   "metadata": {},
   "outputs": [],
   "source": [
    "# importing required libraries\n",
    "import numpy as np\n",
    "import matplotlib.pyplot as plt\n",
    "import pandas as pd"
   ]
  },
  {
   "cell_type": "code",
   "execution_count": 4,
   "id": "4f1903d8",
   "metadata": {},
   "outputs": [],
   "source": [
    "from sklearn.model_selection import train_test_split\n",
    "from sklearn.metrics import accuracy_score\n",
    "df= pd.read_csv('final_datasets/encoded_dataset.csv')\n",
    "X = df.iloc[:, 3:13].values\n",
    "y = df.iloc[:, 2].values\n",
    "X_train, X_test, y_train, y_test = train_test_split(X, y, test_size = 0.2, random_state = 0)"
   ]
  },
  {
   "cell_type": "code",
   "execution_count": 5,
   "id": "7a287512",
   "metadata": {},
   "outputs": [
    {
     "data": {
      "text/plain": [
       "0.4375"
      ]
     },
     "execution_count": 5,
     "metadata": {},
     "output_type": "execute_result"
    }
   ],
   "source": [
    "from sklearn import svm\n",
    "svm_model = svm.SVC().fit(X_train,y_train)\n",
    "y_pred = svm_model.predict(X_test)\n",
    "svm_score = accuracy_score(y_test, y_pred,normalize = True)\n",
    "svm_score"
   ]
  },
  {
   "cell_type": "code",
   "execution_count": 6,
   "id": "bb7696d2",
   "metadata": {},
   "outputs": [
    {
     "data": {
      "text/plain": [
       "0.4375"
      ]
     },
     "execution_count": 6,
     "metadata": {},
     "output_type": "execute_result"
    }
   ],
   "source": [
    "from sklearn.linear_model import LogisticRegression\n",
    "lr_model = LogisticRegression(random_state=0, multi_class = \"ovr\").fit(X_train, y_train)\n",
    "y_pred = lr_model.predict(X_test)\n",
    "lr_score = accuracy_score(y_test, y_pred,normalize = True)\n",
    "lr_score"
   ]
  },
  {
   "cell_type": "code",
   "execution_count": 7,
   "id": "0d2ad622",
   "metadata": {},
   "outputs": [
    {
     "data": {
      "text/plain": [
       "0.2625"
      ]
     },
     "execution_count": 7,
     "metadata": {},
     "output_type": "execute_result"
    }
   ],
   "source": [
    "from sklearn.naive_bayes import GaussianNB\n",
    "gnb = GaussianNB()\n",
    "y_pred = gnb.fit(X_train, y_train).predict(X_test)\n",
    "gnb_score = accuracy_score(y_test,y_pred,normalize=True)\n",
    "gnb_score"
   ]
  },
  {
   "cell_type": "code",
   "execution_count": 8,
   "id": "a8c49b9d",
   "metadata": {},
   "outputs": [
    {
     "data": {
      "text/plain": [
       "0.2625"
      ]
     },
     "execution_count": 8,
     "metadata": {},
     "output_type": "execute_result"
    }
   ],
   "source": [
    "from sklearn.naive_bayes import MultinomialNB\n",
    "mnb = MultinomialNB\n",
    "y_pred = gnb.fit(X_train, y_train).predict(X_test)\n",
    "mnb_score = accuracy_score(y_test,y_pred,normalize=True)\n",
    "mnb_score"
   ]
  },
  {
   "cell_type": "code",
   "execution_count": 9,
   "id": "fe17784d",
   "metadata": {},
   "outputs": [
    {
     "data": {
      "text/plain": [
       "0.2625"
      ]
     },
     "execution_count": 9,
     "metadata": {},
     "output_type": "execute_result"
    }
   ],
   "source": [
    "from sklearn.naive_bayes import BernoulliNB\n",
    "bnb = BernoulliNB\n",
    "y_pred = gnb.fit(X_train, y_train).predict(X_test)\n",
    "bnb_score = accuracy_score(y_test,y_pred,normalize=True)\n",
    "bnb_score"
   ]
  },
  {
   "cell_type": "code",
   "execution_count": 10,
   "id": "1daf6e15",
   "metadata": {},
   "outputs": [
    {
     "data": {
      "text/plain": [
       "0.4375"
      ]
     },
     "execution_count": 10,
     "metadata": {},
     "output_type": "execute_result"
    }
   ],
   "source": [
    "from sklearn.ensemble import RandomForestClassifier\n",
    "rfc_model = RandomForestClassifier(max_depth=2, random_state=0).fit(X_train,y_train)\n",
    "y_pred = rfc_model.predict(X_test)\n",
    "rfc_score = accuracy_score(y_test,y_pred,normalize=True)\n",
    "rfc_score"
   ]
  },
  {
   "cell_type": "code",
   "execution_count": 11,
   "id": "2278f30a",
   "metadata": {},
   "outputs": [],
   "source": [
    "from sklearn.model_selection import train_test_split\n",
    "from sklearn.metrics import accuracy_score\n",
    "from imblearn.over_sampling import RandomOverSampler\n",
    "oversample = RandomOverSampler()\n",
    "df= pd.read_csv('final_datasets/encoded_dataset.csv')\n",
    "X = df.iloc[:, 3:13].values\n",
    "y = df.iloc[:, 2].values\n",
    "X_over, y_over = oversample.fit_resample(X, y)\n",
    "X_train, X_test, y_train, y_test = train_test_split(X_over, y_over, test_size = 0.2, random_state = 0)"
   ]
  },
  {
   "cell_type": "code",
   "execution_count": 12,
   "id": "db93a9c0",
   "metadata": {},
   "outputs": [
    {
     "data": {
      "text/plain": [
       "0.23076923076923078"
      ]
     },
     "execution_count": 12,
     "metadata": {},
     "output_type": "execute_result"
    }
   ],
   "source": [
    "from sklearn import svm\n",
    "svm_model = svm.SVC().fit(X_train,y_train)\n",
    "y_pred = svm_model.predict(X_test)\n",
    "svm_score = accuracy_score(y_test, y_pred,normalize = True)\n",
    "svm_score"
   ]
  },
  {
   "cell_type": "code",
   "execution_count": 13,
   "id": "e63853cb",
   "metadata": {},
   "outputs": [
    {
     "data": {
      "text/plain": [
       "0.23076923076923078"
      ]
     },
     "execution_count": 13,
     "metadata": {},
     "output_type": "execute_result"
    }
   ],
   "source": [
    "from sklearn.linear_model import LogisticRegression\n",
    "lr_model = LogisticRegression(random_state=0, multi_class = \"ovr\").fit(X_train, y_train)\n",
    "y_pred = lr_model.predict(X_test)\n",
    "lr_score = accuracy_score(y_test, y_pred,normalize = True)\n",
    "lr_score"
   ]
  },
  {
   "cell_type": "code",
   "execution_count": 14,
   "id": "8ce6ba68",
   "metadata": {},
   "outputs": [
    {
     "data": {
      "text/plain": [
       "0.3153846153846154"
      ]
     },
     "execution_count": 14,
     "metadata": {},
     "output_type": "execute_result"
    }
   ],
   "source": [
    "from sklearn.naive_bayes import GaussianNB\n",
    "gnb = GaussianNB()\n",
    "y_pred = gnb.fit(X_train, y_train).predict(X_test)\n",
    "gnb_score = accuracy_score(y_test,y_pred,normalize=True)\n",
    "gnb_score"
   ]
  },
  {
   "cell_type": "code",
   "execution_count": 15,
   "id": "6572ba9c",
   "metadata": {},
   "outputs": [
    {
     "data": {
      "text/plain": [
       "0.3153846153846154"
      ]
     },
     "execution_count": 15,
     "metadata": {},
     "output_type": "execute_result"
    }
   ],
   "source": [
    "from sklearn.naive_bayes import GaussianNB\n",
    "gnb = GaussianNB()\n",
    "y_pred = gnb.fit(X_train, y_train).predict(X_test)\n",
    "gnb_score = accuracy_score(y_test,y_pred,normalize=True)\n",
    "gnb_score"
   ]
  },
  {
   "cell_type": "code",
   "execution_count": 16,
   "id": "b47f5f15",
   "metadata": {},
   "outputs": [
    {
     "data": {
      "text/plain": [
       "0.3153846153846154"
      ]
     },
     "execution_count": 16,
     "metadata": {},
     "output_type": "execute_result"
    }
   ],
   "source": [
    "from sklearn.naive_bayes import MultinomialNB\n",
    "mnb = MultinomialNB\n",
    "y_pred = gnb.fit(X_train, y_train).predict(X_test)\n",
    "mnb_score = accuracy_score(y_test,y_pred,normalize=True)\n",
    "mnb_score"
   ]
  },
  {
   "cell_type": "code",
   "execution_count": 17,
   "id": "e0bb5ca1",
   "metadata": {},
   "outputs": [
    {
     "data": {
      "text/plain": [
       "0.3153846153846154"
      ]
     },
     "execution_count": 17,
     "metadata": {},
     "output_type": "execute_result"
    }
   ],
   "source": [
    "from sklearn.naive_bayes import BernoulliNB\n",
    "bnb = BernoulliNB\n",
    "y_pred = gnb.fit(X_train, y_train).predict(X_test)\n",
    "bnb_score = accuracy_score(y_test,y_pred,normalize=True)\n",
    "bnb_score"
   ]
  },
  {
   "cell_type": "code",
   "execution_count": 18,
   "id": "63b3257d",
   "metadata": {},
   "outputs": [
    {
     "data": {
      "text/plain": [
       "0.23076923076923078"
      ]
     },
     "execution_count": 18,
     "metadata": {},
     "output_type": "execute_result"
    }
   ],
   "source": [
    "from sklearn.ensemble import RandomForestClassifier\n",
    "rfc_model = RandomForestClassifier(max_depth=2, random_state=0).fit(X_train,y_train)\n",
    "y_pred = rfc_model.predict(X_test)\n",
    "rfc_score = accuracy_score(y_test,y_pred,normalize=True)\n",
    "rfc_score"
   ]
  },
  {
   "cell_type": "code",
   "execution_count": null,
   "id": "6a603783",
   "metadata": {},
   "outputs": [],
   "source": []
  }
 ],
 "metadata": {
  "kernelspec": {
   "display_name": "Python 3 (ipykernel)",
   "language": "python",
   "name": "python3"
  },
  "language_info": {
   "codemirror_mode": {
    "name": "ipython",
    "version": 3
   },
   "file_extension": ".py",
   "mimetype": "text/x-python",
   "name": "python",
   "nbconvert_exporter": "python",
   "pygments_lexer": "ipython3",
   "version": "3.9.9"
  }
 },
 "nbformat": 4,
 "nbformat_minor": 5
}
